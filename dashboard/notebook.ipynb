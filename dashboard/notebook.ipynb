{
 "cells": [
  {
   "cell_type": "code",
   "execution_count": 30,
   "metadata": {
    "cell_id": "09ee8a1a49d74c8297cb62f6a728314c",
    "deepnote_cell_height": 135,
    "deepnote_cell_type": "code",
    "deepnote_to_be_reexecuted": false,
    "execution_millis": 1,
    "execution_start": 1658967758781,
    "source_hash": "94e73c78",
    "tags": []
   },
   "outputs": [],
   "source": [
    "# import gspread as gs\n",
    "import pandas as pd\n",
    "from IPython.display import Markdown, display\n",
    "import plotly.express as px"
   ]
  },
  {
   "cell_type": "code",
   "execution_count": 23,
   "metadata": {
    "cell_id": "52cd4ea517fe4e94bce45bad51c96759",
    "deepnote_cell_height": 776.65625,
    "deepnote_cell_type": "code",
    "deepnote_output_heights": [
     606.328125
    ],
    "deepnote_table_loading": false,
    "deepnote_table_state": {
     "filters": [],
     "pageIndex": 1,
     "pageSize": 10,
     "sortBy": []
    },
    "deepnote_to_be_reexecuted": false,
    "execution_millis": 979,
    "execution_start": 1658967908610,
    "owner_user_id": "57103ef5-3f63-4bd7-8346-e82a789396ea",
    "source_hash": "115cfac5",
    "tags": []
   },
   "outputs": [
    {
     "data": {
      "text/html": [
       "<div>\n",
       "<style scoped>\n",
       "    .dataframe tbody tr th:only-of-type {\n",
       "        vertical-align: middle;\n",
       "    }\n",
       "\n",
       "    .dataframe tbody tr th {\n",
       "        vertical-align: top;\n",
       "    }\n",
       "\n",
       "    .dataframe thead th {\n",
       "        text-align: right;\n",
       "    }\n",
       "</style>\n",
       "<table border=\"1\" class=\"dataframe\">\n",
       "  <thead>\n",
       "    <tr style=\"text-align: right;\">\n",
       "      <th></th>\n",
       "      <th>Timestamp</th>\n",
       "      <th>Parsed_Date</th>\n",
       "      <th>ID</th>\n",
       "      <th>default</th>\n",
       "      <th>dead</th>\n",
       "      <th>Length_Height</th>\n",
       "      <th>Weight</th>\n",
       "      <th>MUAC</th>\n",
       "      <th>Edema</th>\n",
       "      <th>Zscore</th>\n",
       "      <th>...</th>\n",
       "      <th>isdead</th>\n",
       "      <th>isnormal</th>\n",
       "      <th>lheight</th>\n",
       "      <th>L</th>\n",
       "      <th>M</th>\n",
       "      <th>S</th>\n",
       "      <th>Brgy</th>\n",
       "      <th>Muni_city</th>\n",
       "      <th>Province</th>\n",
       "      <th>Region</th>\n",
       "    </tr>\n",
       "  </thead>\n",
       "  <tbody>\n",
       "    <tr>\n",
       "      <th>1</th>\n",
       "      <td>2022-07-27 23:35:43.610000+00:00</td>\n",
       "      <td>7/27/2022 23:35:43</td>\n",
       "      <td>rqIFv4aa</td>\n",
       "      <td>no</td>\n",
       "      <td>no</td>\n",
       "      <td>65.0</td>\n",
       "      <td>5.7</td>\n",
       "      <td>14.0</td>\n",
       "      <td>yes</td>\n",
       "      <td>-3.39</td>\n",
       "      <td>...</td>\n",
       "      <td>0</td>\n",
       "      <td>0</td>\n",
       "      <td>65.0</td>\n",
       "      <td>-0.3521</td>\n",
       "      <td>7.4327</td>\n",
       "      <td>0.08217</td>\n",
       "      <td>EM's Barrio</td>\n",
       "      <td>Legazpi City</td>\n",
       "      <td>Albay</td>\n",
       "      <td>Region V</td>\n",
       "    </tr>\n",
       "    <tr>\n",
       "      <th>5</th>\n",
       "      <td>2022-07-25 13:35:43.610000+00:00</td>\n",
       "      <td>7/25/2022 13:35:43</td>\n",
       "      <td>aLgyCy</td>\n",
       "      <td>no</td>\n",
       "      <td>yes</td>\n",
       "      <td>85.0</td>\n",
       "      <td>12.0</td>\n",
       "      <td>14.0</td>\n",
       "      <td>no</td>\n",
       "      <td>0.52</td>\n",
       "      <td>...</td>\n",
       "      <td>1</td>\n",
       "      <td>0</td>\n",
       "      <td>85.0</td>\n",
       "      <td>-0.3521</td>\n",
       "      <td>11.5007</td>\n",
       "      <td>0.08181</td>\n",
       "      <td>EM's Barrio</td>\n",
       "      <td>Legazpi City</td>\n",
       "      <td>Albay</td>\n",
       "      <td>Region V</td>\n",
       "    </tr>\n",
       "    <tr>\n",
       "      <th>2</th>\n",
       "      <td>2022-07-24 13:35:43.610000+00:00</td>\n",
       "      <td>7/24/2022 13:35:43</td>\n",
       "      <td>vCYZlf</td>\n",
       "      <td>no</td>\n",
       "      <td>no</td>\n",
       "      <td>90.5</td>\n",
       "      <td>10.5</td>\n",
       "      <td>14.0</td>\n",
       "      <td>no</td>\n",
       "      <td>-2.59</td>\n",
       "      <td>...</td>\n",
       "      <td>0</td>\n",
       "      <td>0</td>\n",
       "      <td>90.5</td>\n",
       "      <td>-0.3521</td>\n",
       "      <td>12.8392</td>\n",
       "      <td>0.08034</td>\n",
       "      <td>EM's Barrio</td>\n",
       "      <td>Legazpi City</td>\n",
       "      <td>Albay</td>\n",
       "      <td>Region V</td>\n",
       "    </tr>\n",
       "    <tr>\n",
       "      <th>4</th>\n",
       "      <td>2022-07-23 13:35:43.610000+00:00</td>\n",
       "      <td>7/23/2022 13:35:43</td>\n",
       "      <td>jD7Z4U</td>\n",
       "      <td>yes</td>\n",
       "      <td>no</td>\n",
       "      <td>85.0</td>\n",
       "      <td>12.0</td>\n",
       "      <td>14.0</td>\n",
       "      <td>no</td>\n",
       "      <td>0.52</td>\n",
       "      <td>...</td>\n",
       "      <td>0</td>\n",
       "      <td>0</td>\n",
       "      <td>85.0</td>\n",
       "      <td>-0.3521</td>\n",
       "      <td>11.5007</td>\n",
       "      <td>0.08181</td>\n",
       "      <td>EM's Barrio</td>\n",
       "      <td>Legazpi City</td>\n",
       "      <td>Albay</td>\n",
       "      <td>Region V</td>\n",
       "    </tr>\n",
       "    <tr>\n",
       "      <th>3</th>\n",
       "      <td>2022-07-22 13:35:43.610000+00:00</td>\n",
       "      <td>7/22/2022 13:35:43</td>\n",
       "      <td>jAElxR</td>\n",
       "      <td>no</td>\n",
       "      <td>no</td>\n",
       "      <td>47.0</td>\n",
       "      <td>6.0</td>\n",
       "      <td>14.0</td>\n",
       "      <td>no</td>\n",
       "      <td>7.31</td>\n",
       "      <td>...</td>\n",
       "      <td>0</td>\n",
       "      <td>1</td>\n",
       "      <td>47.0</td>\n",
       "      <td>-0.3833</td>\n",
       "      <td>2.8007</td>\n",
       "      <td>0.09044</td>\n",
       "      <td>Cruzada</td>\n",
       "      <td>Legazpi City</td>\n",
       "      <td>Albay</td>\n",
       "      <td>Region V</td>\n",
       "    </tr>\n",
       "    <tr>\n",
       "      <th>0</th>\n",
       "      <td>2022-07-13 03:40:58.610000+00:00</td>\n",
       "      <td>7/13/2022 3:40:58</td>\n",
       "      <td>rqIFv4aa</td>\n",
       "      <td>no</td>\n",
       "      <td>no</td>\n",
       "      <td>65.0</td>\n",
       "      <td>5.7</td>\n",
       "      <td>14.0</td>\n",
       "      <td>no</td>\n",
       "      <td>-3.39</td>\n",
       "      <td>...</td>\n",
       "      <td>0</td>\n",
       "      <td>0</td>\n",
       "      <td>65.0</td>\n",
       "      <td>-0.3521</td>\n",
       "      <td>7.4327</td>\n",
       "      <td>0.08217</td>\n",
       "      <td>EM's Barrio</td>\n",
       "      <td>Legazpi City</td>\n",
       "      <td>Albay</td>\n",
       "      <td>Region V</td>\n",
       "    </tr>\n",
       "  </tbody>\n",
       "</table>\n",
       "<p>6 rows × 25 columns</p>\n",
       "</div>"
      ],
      "text/plain": [
       "                         Timestamp         Parsed_Date        ID default dead  \\\n",
       "1 2022-07-27 23:35:43.610000+00:00  7/27/2022 23:35:43  rqIFv4aa      no   no   \n",
       "5 2022-07-25 13:35:43.610000+00:00  7/25/2022 13:35:43    aLgyCy      no  yes   \n",
       "2 2022-07-24 13:35:43.610000+00:00  7/24/2022 13:35:43    vCYZlf      no   no   \n",
       "4 2022-07-23 13:35:43.610000+00:00  7/23/2022 13:35:43    jD7Z4U     yes   no   \n",
       "3 2022-07-22 13:35:43.610000+00:00  7/22/2022 13:35:43    jAElxR      no   no   \n",
       "0 2022-07-13 03:40:58.610000+00:00   7/13/2022 3:40:58  rqIFv4aa      no   no   \n",
       "\n",
       "   Length_Height  Weight  MUAC Edema  Zscore  ...  isdead isnormal  lheight  \\\n",
       "1           65.0     5.7  14.0   yes   -3.39  ...       0        0     65.0   \n",
       "5           85.0    12.0  14.0    no    0.52  ...       1        0     85.0   \n",
       "2           90.5    10.5  14.0    no   -2.59  ...       0        0     90.5   \n",
       "4           85.0    12.0  14.0    no    0.52  ...       0        0     85.0   \n",
       "3           47.0     6.0  14.0    no    7.31  ...       0        1     47.0   \n",
       "0           65.0     5.7  14.0    no   -3.39  ...       0        0     65.0   \n",
       "\n",
       "        L        M        S         Brgy     Muni_city  Province    Region  \n",
       "1 -0.3521   7.4327  0.08217  EM's Barrio  Legazpi City     Albay  Region V  \n",
       "5 -0.3521  11.5007  0.08181  EM's Barrio  Legazpi City     Albay  Region V  \n",
       "2 -0.3521  12.8392  0.08034  EM's Barrio  Legazpi City     Albay  Region V  \n",
       "4 -0.3521  11.5007  0.08181  EM's Barrio  Legazpi City     Albay  Region V  \n",
       "3 -0.3833   2.8007  0.09044      Cruzada  Legazpi City     Albay  Region V  \n",
       "0 -0.3521   7.4327  0.08217  EM's Barrio  Legazpi City     Albay  Region V  \n",
       "\n",
       "[6 rows x 25 columns]"
      ]
     },
     "execution_count": 23,
     "metadata": {},
     "output_type": "execute_result"
    }
   ],
   "source": [
    "# Get credentials for gspread\n",
    "# gc = gs.service_account(filename=\"service_account.json\")\n",
    "\n",
    "# Open Google Sheets worksheets\n",
    "# sh = gc.open_by_url(\"https://docs.google.com/spreadsheets/d/12hULH8zk8njDnBph7zEuEtb8nSyKOOGqMTpU45iS8Vg/edit?usp=sharing\")\n",
    "\n",
    "url2 = \"https://docs.google.com/spreadsheets/d/e/2PACX-1vTkaDvWWgl_Qzk8HwuwW4UkZUt2kd443Nh6VQ9R0pEGoBZWZVAPAZDP9_b101E0fg6XPOB9A45WgAHq/pub?gid=2044430038&single=true&output=csv\"\n",
    "df1 = pd.read_csv(url2)\n",
    "\n",
    "# ws1 = sh.worksheet(\"patientsstatus\")\n",
    "# df1 = pd.DataFrame(ws1.get_all_records())\n",
    "\n",
    "# ws2 = sh.worksheet(\"personaldetails\")\n",
    "# df2 = pd.DataFrame(ws2.get_all_records())\n",
    "\n",
    "# Format data into proper data types\n",
    "df1[\"Timestamp\"] = pd.to_datetime(df1[\"Timestamp\"])\n",
    "df1 = df1.sort_values(by=\"Timestamp\", ascending=False)\n",
    "df1"
   ]
  },
  {
   "cell_type": "code",
   "execution_count": 24,
   "metadata": {
    "cell_id": "0f1b23662cd24cfe81b4d51e160c678e",
    "deepnote_cell_height": 627.65625,
    "deepnote_cell_type": "code",
    "deepnote_to_be_reexecuted": false,
    "execution_millis": 407,
    "execution_start": 1658968027707,
    "source_hash": "c29e0a",
    "tags": []
   },
   "outputs": [
    {
     "data": {
      "text/html": [
       "<div>\n",
       "<style scoped>\n",
       "    .dataframe tbody tr th:only-of-type {\n",
       "        vertical-align: middle;\n",
       "    }\n",
       "\n",
       "    .dataframe tbody tr th {\n",
       "        vertical-align: top;\n",
       "    }\n",
       "\n",
       "    .dataframe thead th {\n",
       "        text-align: right;\n",
       "    }\n",
       "</style>\n",
       "<table border=\"1\" class=\"dataframe\">\n",
       "  <thead>\n",
       "    <tr style=\"text-align: right;\">\n",
       "      <th></th>\n",
       "      <th>Timestamp</th>\n",
       "      <th>Brgy</th>\n",
       "      <th>Muni_city</th>\n",
       "      <th>Province</th>\n",
       "      <th>Region</th>\n",
       "      <th>SAM</th>\n",
       "      <th>MAM</th>\n",
       "      <th>isdefault</th>\n",
       "      <th>isdead</th>\n",
       "      <th>isnormal</th>\n",
       "    </tr>\n",
       "  </thead>\n",
       "  <tbody>\n",
       "    <tr>\n",
       "      <th>0</th>\n",
       "      <td>2022-07-22 00:00:00+00:00</td>\n",
       "      <td>Cruzada</td>\n",
       "      <td>Legazpi City</td>\n",
       "      <td>Albay</td>\n",
       "      <td>Region V</td>\n",
       "      <td>0</td>\n",
       "      <td>0</td>\n",
       "      <td>0</td>\n",
       "      <td>0</td>\n",
       "      <td>1</td>\n",
       "    </tr>\n",
       "    <tr>\n",
       "      <th>1</th>\n",
       "      <td>2022-07-23 00:00:00+00:00</td>\n",
       "      <td>EM's Barrio</td>\n",
       "      <td>Legazpi City</td>\n",
       "      <td>Albay</td>\n",
       "      <td>Region V</td>\n",
       "      <td>0</td>\n",
       "      <td>0</td>\n",
       "      <td>1</td>\n",
       "      <td>0</td>\n",
       "      <td>0</td>\n",
       "    </tr>\n",
       "    <tr>\n",
       "      <th>2</th>\n",
       "      <td>2022-07-24 00:00:00+00:00</td>\n",
       "      <td>EM's Barrio</td>\n",
       "      <td>Legazpi City</td>\n",
       "      <td>Albay</td>\n",
       "      <td>Region V</td>\n",
       "      <td>0</td>\n",
       "      <td>1</td>\n",
       "      <td>0</td>\n",
       "      <td>0</td>\n",
       "      <td>0</td>\n",
       "    </tr>\n",
       "    <tr>\n",
       "      <th>3</th>\n",
       "      <td>2022-07-25 00:00:00+00:00</td>\n",
       "      <td>EM's Barrio</td>\n",
       "      <td>Legazpi City</td>\n",
       "      <td>Albay</td>\n",
       "      <td>Region V</td>\n",
       "      <td>0</td>\n",
       "      <td>0</td>\n",
       "      <td>0</td>\n",
       "      <td>1</td>\n",
       "      <td>0</td>\n",
       "    </tr>\n",
       "    <tr>\n",
       "      <th>4</th>\n",
       "      <td>2022-07-27 00:00:00+00:00</td>\n",
       "      <td>EM's Barrio</td>\n",
       "      <td>Legazpi City</td>\n",
       "      <td>Albay</td>\n",
       "      <td>Region V</td>\n",
       "      <td>1</td>\n",
       "      <td>0</td>\n",
       "      <td>0</td>\n",
       "      <td>0</td>\n",
       "      <td>0</td>\n",
       "    </tr>\n",
       "  </tbody>\n",
       "</table>\n",
       "</div>"
      ],
      "text/plain": [
       "                  Timestamp         Brgy     Muni_city Province    Region  \\\n",
       "0 2022-07-22 00:00:00+00:00      Cruzada  Legazpi City    Albay  Region V   \n",
       "1 2022-07-23 00:00:00+00:00  EM's Barrio  Legazpi City    Albay  Region V   \n",
       "2 2022-07-24 00:00:00+00:00  EM's Barrio  Legazpi City    Albay  Region V   \n",
       "3 2022-07-25 00:00:00+00:00  EM's Barrio  Legazpi City    Albay  Region V   \n",
       "4 2022-07-27 00:00:00+00:00  EM's Barrio  Legazpi City    Albay  Region V   \n",
       "\n",
       "   SAM  MAM  isdefault  isdead  isnormal  \n",
       "0    0    0          0       0         1  \n",
       "1    0    0          1       0         0  \n",
       "2    0    1          0       0         0  \n",
       "3    0    0          0       1         0  \n",
       "4    1    0          0       0         0  "
      ]
     },
     "execution_count": 24,
     "metadata": {},
     "output_type": "execute_result"
    }
   ],
   "source": [
    "# Sort value by most recent to least recent and keep only latest records for each unique child\n",
    "df1_recent = df1.sort_values(by=\"Timestamp\", ascending=False).drop_duplicates( subset=[\"ID\"], keep=\"first\")\n",
    "\n",
    "# Summarize SAM, MAM, normal, defaulted cases by day then barangay\n",
    "df1_recent = df1_recent.groupby([pd.Grouper(key='Timestamp', freq='D'), 'Brgy', 'Muni_city', 'Province','Region'])[['SAM','MAM','isdefault','isdead','isnormal']].sum().reset_index().sort_values('Timestamp')\n",
    "\n",
    "# Store values of currently active SAM and MAM cases\n",
    "current_active_SAM = df1_recent['SAM'].sum()\n",
    "current_active_MAM = df1_recent['MAM'].sum()\n",
    "recent_defaulted = df1_recent['isdefault'].sum()\n",
    "recent_dead = df1_recent['isdead'].sum()\n",
    "\n",
    "df1_recent"
   ]
  },
  {
   "cell_type": "code",
   "execution_count": 25,
   "metadata": {
    "cell_id": "8ebb93656f7e4be0ab0f67a7aa0daddc",
    "deepnote_cell_height": 597,
    "deepnote_cell_type": "code",
    "deepnote_table_loading": false,
    "deepnote_table_state": {
     "filters": [],
     "pageIndex": 0,
     "pageSize": 10,
     "sortBy": []
    },
    "deepnote_to_be_reexecuted": false,
    "execution_millis": 41,
    "execution_start": 1658968096438,
    "source_hash": "85673fb1",
    "tags": []
   },
   "outputs": [
    {
     "data": {
      "text/html": [
       "<div>\n",
       "<style scoped>\n",
       "    .dataframe tbody tr th:only-of-type {\n",
       "        vertical-align: middle;\n",
       "    }\n",
       "\n",
       "    .dataframe tbody tr th {\n",
       "        vertical-align: top;\n",
       "    }\n",
       "\n",
       "    .dataframe thead th {\n",
       "        text-align: right;\n",
       "    }\n",
       "</style>\n",
       "<table border=\"1\" class=\"dataframe\">\n",
       "  <thead>\n",
       "    <tr style=\"text-align: right;\">\n",
       "      <th></th>\n",
       "      <th>Timestamp</th>\n",
       "      <th>Brgy</th>\n",
       "      <th>Muni_city</th>\n",
       "      <th>Province</th>\n",
       "      <th>Region</th>\n",
       "      <th>SAM</th>\n",
       "      <th>MAM</th>\n",
       "      <th>isdefault</th>\n",
       "      <th>isdead</th>\n",
       "      <th>isnormal</th>\n",
       "    </tr>\n",
       "  </thead>\n",
       "  <tbody>\n",
       "    <tr>\n",
       "      <th>0</th>\n",
       "      <td>2022-07-13 00:00:00+00:00</td>\n",
       "      <td>EM's Barrio</td>\n",
       "      <td>Legazpi City</td>\n",
       "      <td>Albay</td>\n",
       "      <td>Region V</td>\n",
       "      <td>1</td>\n",
       "      <td>0</td>\n",
       "      <td>0</td>\n",
       "      <td>0</td>\n",
       "      <td>0</td>\n",
       "    </tr>\n",
       "    <tr>\n",
       "      <th>1</th>\n",
       "      <td>2022-07-22 00:00:00+00:00</td>\n",
       "      <td>Cruzada</td>\n",
       "      <td>Legazpi City</td>\n",
       "      <td>Albay</td>\n",
       "      <td>Region V</td>\n",
       "      <td>0</td>\n",
       "      <td>0</td>\n",
       "      <td>0</td>\n",
       "      <td>0</td>\n",
       "      <td>1</td>\n",
       "    </tr>\n",
       "    <tr>\n",
       "      <th>2</th>\n",
       "      <td>2022-07-23 00:00:00+00:00</td>\n",
       "      <td>EM's Barrio</td>\n",
       "      <td>Legazpi City</td>\n",
       "      <td>Albay</td>\n",
       "      <td>Region V</td>\n",
       "      <td>0</td>\n",
       "      <td>0</td>\n",
       "      <td>1</td>\n",
       "      <td>0</td>\n",
       "      <td>0</td>\n",
       "    </tr>\n",
       "    <tr>\n",
       "      <th>3</th>\n",
       "      <td>2022-07-24 00:00:00+00:00</td>\n",
       "      <td>EM's Barrio</td>\n",
       "      <td>Legazpi City</td>\n",
       "      <td>Albay</td>\n",
       "      <td>Region V</td>\n",
       "      <td>0</td>\n",
       "      <td>1</td>\n",
       "      <td>0</td>\n",
       "      <td>0</td>\n",
       "      <td>0</td>\n",
       "    </tr>\n",
       "    <tr>\n",
       "      <th>4</th>\n",
       "      <td>2022-07-25 00:00:00+00:00</td>\n",
       "      <td>EM's Barrio</td>\n",
       "      <td>Legazpi City</td>\n",
       "      <td>Albay</td>\n",
       "      <td>Region V</td>\n",
       "      <td>0</td>\n",
       "      <td>0</td>\n",
       "      <td>0</td>\n",
       "      <td>1</td>\n",
       "      <td>0</td>\n",
       "    </tr>\n",
       "    <tr>\n",
       "      <th>5</th>\n",
       "      <td>2022-07-27 00:00:00+00:00</td>\n",
       "      <td>EM's Barrio</td>\n",
       "      <td>Legazpi City</td>\n",
       "      <td>Albay</td>\n",
       "      <td>Region V</td>\n",
       "      <td>1</td>\n",
       "      <td>0</td>\n",
       "      <td>0</td>\n",
       "      <td>0</td>\n",
       "      <td>0</td>\n",
       "    </tr>\n",
       "  </tbody>\n",
       "</table>\n",
       "</div>"
      ],
      "text/plain": [
       "                  Timestamp         Brgy     Muni_city Province    Region  \\\n",
       "0 2022-07-13 00:00:00+00:00  EM's Barrio  Legazpi City    Albay  Region V   \n",
       "1 2022-07-22 00:00:00+00:00      Cruzada  Legazpi City    Albay  Region V   \n",
       "2 2022-07-23 00:00:00+00:00  EM's Barrio  Legazpi City    Albay  Region V   \n",
       "3 2022-07-24 00:00:00+00:00  EM's Barrio  Legazpi City    Albay  Region V   \n",
       "4 2022-07-25 00:00:00+00:00  EM's Barrio  Legazpi City    Albay  Region V   \n",
       "5 2022-07-27 00:00:00+00:00  EM's Barrio  Legazpi City    Albay  Region V   \n",
       "\n",
       "   SAM  MAM  isdefault  isdead  isnormal  \n",
       "0    1    0          0       0         0  \n",
       "1    0    0          0       0         1  \n",
       "2    0    0          1       0         0  \n",
       "3    0    1          0       0         0  \n",
       "4    0    0          0       1         0  \n",
       "5    1    0          0       0         0  "
      ]
     },
     "execution_count": 25,
     "metadata": {},
     "output_type": "execute_result"
    }
   ],
   "source": [
    "# Aggregate all SAM, MAM, default, dead, normal results per barangay\n",
    "df1_grouped = df1.groupby([pd.Grouper(key='Timestamp', freq='D'), 'Brgy', 'Muni_city', 'Province','Region'])[['SAM','MAM','isdefault','isdead','isnormal']].sum().reset_index().sort_values('Timestamp')\n",
    "\n",
    "total_SAM = df1_grouped['SAM'].sum()\n",
    "total_MAM = df1_grouped['MAM'].sum()\n",
    "total_default = df1_grouped['isdefault'].sum()\n",
    "total_dead = df1_grouped['isdead'].sum()\n",
    "\n",
    "df1_grouped"
   ]
  },
  {
   "cell_type": "code",
   "execution_count": 26,
   "metadata": {
    "cell_id": "f55c3451b9ac4966b9e1b730405abb19",
    "deepnote_cell_height": 342.65625,
    "deepnote_cell_type": "code",
    "deepnote_to_be_reexecuted": false,
    "execution_millis": 128,
    "execution_start": 1658968219027,
    "source_hash": "5b3ea1b3",
    "tags": []
   },
   "outputs": [
    {
     "data": {
      "text/html": [
       "<div>\n",
       "<style scoped>\n",
       "    .dataframe tbody tr th:only-of-type {\n",
       "        vertical-align: middle;\n",
       "    }\n",
       "\n",
       "    .dataframe tbody tr th {\n",
       "        vertical-align: top;\n",
       "    }\n",
       "\n",
       "    .dataframe thead th {\n",
       "        text-align: right;\n",
       "    }\n",
       "</style>\n",
       "<table border=\"1\" class=\"dataframe\">\n",
       "  <thead>\n",
       "    <tr style=\"text-align: right;\">\n",
       "      <th></th>\n",
       "      <th>Timestamp</th>\n",
       "      <th>default</th>\n",
       "      <th>dead</th>\n",
       "      <th>Length_Height</th>\n",
       "      <th>Weight</th>\n",
       "      <th>MUAC</th>\n",
       "      <th>Edema</th>\n",
       "      <th>Zscore</th>\n",
       "      <th>Age</th>\n",
       "      <th>Status</th>\n",
       "    </tr>\n",
       "  </thead>\n",
       "  <tbody>\n",
       "    <tr>\n",
       "      <th>1</th>\n",
       "      <td>2022-07-27 23:35:43.610000+00:00</td>\n",
       "      <td>no</td>\n",
       "      <td>no</td>\n",
       "      <td>65.0</td>\n",
       "      <td>5.7</td>\n",
       "      <td>14.0</td>\n",
       "      <td>yes</td>\n",
       "      <td>-3.39</td>\n",
       "      <td>4</td>\n",
       "      <td>SEVERE Acute Malnutrition</td>\n",
       "    </tr>\n",
       "    <tr>\n",
       "      <th>0</th>\n",
       "      <td>2022-07-13 03:40:58.610000+00:00</td>\n",
       "      <td>no</td>\n",
       "      <td>no</td>\n",
       "      <td>65.0</td>\n",
       "      <td>5.7</td>\n",
       "      <td>14.0</td>\n",
       "      <td>no</td>\n",
       "      <td>-3.39</td>\n",
       "      <td>4</td>\n",
       "      <td>SEVERE Acute Malnutrition</td>\n",
       "    </tr>\n",
       "  </tbody>\n",
       "</table>\n",
       "</div>"
      ],
      "text/plain": [
       "                         Timestamp default dead  Length_Height  Weight  MUAC  \\\n",
       "1 2022-07-27 23:35:43.610000+00:00      no   no           65.0     5.7  14.0   \n",
       "0 2022-07-13 03:40:58.610000+00:00      no   no           65.0     5.7  14.0   \n",
       "\n",
       "  Edema  Zscore  Age                     Status  \n",
       "1   yes   -3.39    4  SEVERE Acute Malnutrition  \n",
       "0    no   -3.39    4  SEVERE Acute Malnutrition  "
      ]
     },
     "execution_count": 26,
     "metadata": {},
     "output_type": "execute_result"
    }
   ],
   "source": [
    "# Get all records of child with user_id of a1 for example\n",
    "user = \"rqIFv4aa\"\n",
    "df1_history = df1.loc[df1[\"ID\"] == user][['Timestamp','default','dead','Length_Height','Weight','MUAC','Edema','Zscore','Age','Status']].sort_values('Timestamp', ascending=False)\n",
    "df1_history"
   ]
  },
  {
   "cell_type": "code",
   "execution_count": 27,
   "metadata": {
    "cell_id": "28adcb2af6444a3486bf95396e16efa2",
    "deepnote_cell_height": 198,
    "deepnote_cell_type": "code",
    "deepnote_output_heights": [
     101
    ],
    "deepnote_to_be_reexecuted": false,
    "execution_millis": 62,
    "execution_start": 1658968237089,
    "source_hash": "e6341117",
    "tags": []
   },
   "outputs": [
    {
     "data": {
      "text/markdown": [
       "<table><tr><th><div><p style=\"font-weight:bold; font-size: 1.25em;\">Active SAM cases</p><h4 style=\"font-size:3em;\">1</h4></div></th><th><div><p style=\"font-weight:bold; font-size: 1.25em;\">Active MAM cases</p><h4 style=\"font-size:3em;\">1</h4></div></th><th><div><p style=\"font-weight:bold; font-size: 1.25em;\">Recent Defaults</p><h4 style=\"font-size:3em;\">1</h4></div></th><th><div><p style=\"font-weight:bold; font-size: 1.25em;\">Recent Deaths</p><h4 style=\"font-size:3em;\">1</h4></div></th></tr></table>"
      ],
      "text/plain": [
       "<IPython.core.display.Markdown object>"
      ]
     },
     "metadata": {},
     "output_type": "display_data"
    }
   ],
   "source": [
    "display(Markdown(f'<table><tr><th><div><p style=\"font-weight:bold; font-size: 1.25em;\">Active SAM cases</p><h4 style=\"font-size:3em;\">{current_active_SAM}</h4></div></th><th><div><p style=\"font-weight:bold; font-size: 1.25em;\">Active MAM cases</p><h4 style=\"font-size:3em;\">{current_active_MAM}</h4></div></th><th><div><p style=\"font-weight:bold; font-size: 1.25em;\">Recent Defaults</p><h4 style=\"font-size:3em;\">{recent_defaulted}</h4></div></th><th><div><p style=\"font-weight:bold; font-size: 1.25em;\">Recent Deaths</p><h4 style=\"font-size:3em;\">{recent_dead}</h4></div></th></tr></table>'))"
   ]
  },
  {
   "cell_type": "code",
   "execution_count": 28,
   "metadata": {
    "cell_id": "1ea63457f4de468ea7665e3a53d0ba5d",
    "deepnote_cell_height": 234,
    "deepnote_cell_type": "code",
    "deepnote_output_heights": [
     101
    ],
    "deepnote_to_be_reexecuted": false,
    "execution_millis": 696,
    "execution_start": 1658968240253,
    "source_hash": "dd55cd6c",
    "tags": []
   },
   "outputs": [
    {
     "data": {
      "text/markdown": [
       "<table><tr><th><div><p style=\"font-weight:bold; font-size: 1.25em;\">Total SAM cases</p><h4 style=\"font-size:3em;\">2</h4></div></th><th><div><p style=\"font-weight:bold; font-size: 1.25em;\">Total MAM cases</p><h4 style=\"font-size:3em;\">1</h4></div></th><th><div><p style=\"font-weight:bold; font-size: 1.25em;\">Total Defaults</p><h4 style=\"font-size:3em;\">1</h4></div></th><th><div><p style=\"font-weight:bold; font-size: 1.25em;\">Total Deaths</p><h4 style=\"font-size:3em;\">1</h4></div></th></tr></table>"
      ],
      "text/plain": [
       "<IPython.core.display.Markdown object>"
      ]
     },
     "metadata": {},
     "output_type": "display_data"
    }
   ],
   "source": [
    "# display(Markdown(f'## Total SAM: {total_SAM}<br/>Total MAM: {total_MAM}'))\n",
    "display(Markdown(f'<table><tr><th><div><p style=\"font-weight:bold; font-size: 1.25em;\">Total SAM cases</p><h4 style=\"font-size:3em;\">{total_SAM}</h4></div></th><th><div><p style=\"font-weight:bold; font-size: 1.25em;\">Total MAM cases</p><h4 style=\"font-size:3em;\">{total_MAM}</h4></div></th><th><div><p style=\"font-weight:bold; font-size: 1.25em;\">Total Defaults</p><h4 style=\"font-size:3em;\">{total_default}</h4></div></th><th><div><p style=\"font-weight:bold; font-size: 1.25em;\">Total Deaths</p><h4 style=\"font-size:3em;\">{total_dead}</h4></div></th></tr></table>'))\n"
   ]
  },
  {
   "cell_type": "code",
   "execution_count": 82,
   "metadata": {
    "cell_id": "e6482e6c04024ead9af6f542ef95af6b",
    "deepnote_cell_height": 2770.90625,
    "deepnote_cell_type": "code",
    "deepnote_to_be_reexecuted": false,
    "execution_millis": 11041,
    "execution_start": 1658941049498,
    "source_hash": "b36ea9b7",
    "tags": []
   },
   "outputs": [
    {
     "name": "stdout",
     "output_type": "stream",
     "text": [
      "Dash is running on http://127.0.0.1:8080/\n",
      "\n",
      "Dash is running on http://127.0.0.1:8080/\n",
      "\n",
      "Dash is running on http://127.0.0.1:8080/\n",
      "\n",
      "Dash is running on http://127.0.0.1:8080/\n",
      "\n",
      "Dash is running on http://127.0.0.1:8080/\n",
      "\n",
      "Dash is running on http://127.0.0.1:8080/\n",
      "\n",
      "Dash is running on http://127.0.0.1:8080/\n",
      "\n",
      "Dash is running on http://127.0.0.1:8080/\n",
      "\n",
      "Dash is running on http://127.0.0.1:8080/\n",
      "\n",
      "Dash is running on http://127.0.0.1:8080/\n",
      "\n",
      "Dash is running on http://127.0.0.1:8080/\n",
      "\n",
      "Dash is running on http://127.0.0.1:8080/\n",
      "\n",
      "Dash is running on http://127.0.0.1:8080/\n",
      "\n",
      "Dash is running on http://127.0.0.1:8080/\n",
      "\n",
      "Dash is running on http://127.0.0.1:8080/\n",
      "\n",
      "Dash is running on http://127.0.0.1:8080/\n",
      "\n",
      "Dash is running on http://127.0.0.1:8080/\n",
      "\n",
      "Dash is running on http://127.0.0.1:8080/\n",
      "\n",
      "Dash is running on http://127.0.0.1:8080/\n",
      "\n",
      "Dash is running on http://127.0.0.1:8080/\n",
      "\n",
      "Dash is running on http://127.0.0.1:8080/\n",
      "\n",
      "Dash is running on http://127.0.0.1:8080/\n",
      "\n",
      "Dash is running on http://127.0.0.1:8080/\n",
      "\n",
      "Dash is running on http://127.0.0.1:8080/\n",
      "\n",
      "Dash is running on http://127.0.0.1:8080/\n",
      "\n",
      "Dash is running on http://127.0.0.1:8080/\n",
      "\n",
      " * Serving Flask app '__main__' (lazy loading)\n",
      " * Environment: production\n",
      "\u001b[31m   WARNING: This is a development server. Do not use it in a production deployment.\u001b[0m\n",
      "\u001b[2m   Use a production WSGI server instead.\u001b[0m\n",
      " * Debug mode: off\n"
     ]
    },
    {
     "name": "stderr",
     "output_type": "stream",
     "text": [
      " * Running on http://127.0.0.1:8080/ (Press CTRL+C to quit)\n",
      "127.0.0.1 - - [28/Jul/2022 09:45:35] \"GET / HTTP/1.1\" 200 -\n",
      "127.0.0.1 - - [28/Jul/2022 09:45:36] \"GET /_dash-layout HTTP/1.1\" 200 -\n",
      "127.0.0.1 - - [28/Jul/2022 09:45:36] \"GET /_dash-dependencies HTTP/1.1\" 200 -\n",
      "127.0.0.1 - - [28/Jul/2022 09:45:36] \"GET /_favicon.ico?v=2.6.0 HTTP/1.1\" 200 -\n",
      "127.0.0.1 - - [28/Jul/2022 09:45:37] \"GET /_dash-component-suites/dash/dcc/async-markdown.js HTTP/1.1\" 200 -\n",
      "127.0.0.1 - - [28/Jul/2022 09:45:37] \"GET /_dash-component-suites/dash/dcc/async-dropdown.js HTTP/1.1\" 200 -\n",
      "127.0.0.1 - - [28/Jul/2022 09:45:37] \"GET /_dash-component-suites/dash/dcc/async-graph.js HTTP/1.1\" 200 -\n",
      "127.0.0.1 - - [28/Jul/2022 09:45:37] \"GET /_dash-component-suites/dash/dcc/async-plotlyjs.js HTTP/1.1\" 200 -\n",
      "127.0.0.1 - - [28/Jul/2022 09:45:37] \"POST /_dash-update-component HTTP/1.1\" 200 -\n",
      "127.0.0.1 - - [28/Jul/2022 09:45:37] \"GET /_dash-component-suites/dash/dcc/async-highlight.js HTTP/1.1\" 200 -\n",
      "127.0.0.1 - - [28/Jul/2022 09:45:42] \"POST /_dash-update-component HTTP/1.1\" 200 -\n",
      "127.0.0.1 - - [28/Jul/2022 09:45:44] \"POST /_dash-update-component HTTP/1.1\" 200 -\n"
     ]
    }
   ],
   "source": [
    "# If you prefer to run the code online instead of on your computer click:\n",
    "# https://github.com/Coding-with-Adam/Dash-by-Plotly#execute-code-in-browser\n",
    "\n",
    "from dash import Dash, dcc, html, Output, Input  # pip install dash\n",
    "import dash_bootstrap_components as dbc    # pip install dash-bootstrap-components\n",
    "import plotly.express as px\n",
    "\n",
    "# incorporate data into app\n",
    "df = px.data.medals_long()\n",
    "\n",
    "# Build your components\n",
    "app = Dash(__name__, external_stylesheets=[dbc.themes.BOOTSTRAP])\n",
    "mytitle = dcc.Markdown(children='# Acute Malnutrition Case Tracker')\n",
    "\n",
    "left_jumbotron1 = dbc.Col(\n",
    "    html.Div(\n",
    "        [\n",
    "            html.P(\"Active SAM cases\", className=\"font-weight-bold\", style={'font-size': '1em'}),\n",
    "            html.H4(current_active_SAM, className=\"display-6\",),\n",
    "        ],\n",
    "        className=\"h-100 p-5 text-white bg-danger rounded-3\",\n",
    "    ),\n",
    "    md=3,\n",
    ")\n",
    "\n",
    "middlel_jumbotron1 = dbc.Col(\n",
    "    html.Div(\n",
    "        [\n",
    "            html.P(\"Active MAM cases\", className=\"font-weight-bold\", style={'font-size': '1em'}),\n",
    "            html.H4(current_active_MAM, className=\"display-6\",),\n",
    "        ],\n",
    "        className=\"h-100 p-5 text-white bg-warning rounded-3\",\n",
    "    ),\n",
    "    md=3,\n",
    ")\n",
    "\n",
    "middler_jumbotron1 = dbc.Col(\n",
    "    html.Div(\n",
    "        [\n",
    "            html.P(\"Recent Defaults\", className=\"font-weight-bold\", style={'font-size': '1em'}),\n",
    "            html.H4(recent_defaulted, className=\"display-6\",),\n",
    "        ],\n",
    "        className=\"h-100 p-5 text-white bg-dark rounded-3\",\n",
    "    ),\n",
    "    md=3,\n",
    ")\n",
    "\n",
    "right_jumbotron1 = dbc.Col(\n",
    "    html.Div(\n",
    "        [\n",
    "            html.P(\"Recent Deaths\", className=\"font-weight-bold\", style={'font-size': '1em'}),\n",
    "            html.H4(recent_dead, className=\"display-6\",),\n",
    "        ],\n",
    "        className=\"h-100 p-5 text-white bg-dark rounded-3\",\n",
    "    ),\n",
    "    md=3,\n",
    ")\n",
    "\n",
    "jumbotron1 = dbc.Row(\n",
    "    [left_jumbotron1, middlel_jumbotron1, middler_jumbotron1, right_jumbotron1],\n",
    "    className=\"align-items-md-stretch\",\n",
    "    style={'margin': '1em'}\n",
    ")\n",
    "\n",
    "left_jumbotron2 = dbc.Col(\n",
    "    html.Div(\n",
    "        [\n",
    "            html.P(\"Total SAM\", className=\"font-weight-bold\", style={'font-size': '1em'}),\n",
    "            html.H4(total_SAM, className=\"display-6\",),\n",
    "        ],\n",
    "        className=\"h-100 p-5 text-white bg-danger rounded-3\",\n",
    "    ),\n",
    "    md=3,\n",
    ")\n",
    "\n",
    "middlel_jumbotron2 = dbc.Col(\n",
    "    html.Div(\n",
    "        [\n",
    "            html.P(\"Total MAM\", className=\"font-weight-bold\", style={'font-size': '1em'}),\n",
    "            html.H4(total_MAM, className=\"display-6\",),\n",
    "        ],\n",
    "        className=\"h-100 p-5 text-white bg-warning rounded-3\",\n",
    "    ),\n",
    "    md=3,\n",
    ")\n",
    "\n",
    "middler_jumbotron2 = dbc.Col(\n",
    "    html.Div(\n",
    "        [\n",
    "            html.P(\"Total Default\", className=\"font-weight-bold\", style={'font-size': '1em'}),\n",
    "            html.H4(total_default, className=\"display-6\",),\n",
    "        ],\n",
    "        className=\"h-100 p-5 text-white bg-dark rounded-3\",\n",
    "    ),\n",
    "    md=3,\n",
    ")\n",
    "\n",
    "right_jumbotron2 = dbc.Col(\n",
    "    html.Div(\n",
    "        [\n",
    "            html.P(\"Total Deaths\", className=\"font-weight-bold\", style={'font-size': '1em'}),\n",
    "            html.H4(total_dead, className=\"display-6\",),\n",
    "        ],\n",
    "        className=\"h-100 p-5 text-white bg-dark rounded-3\",\n",
    "    ),\n",
    "    md=3,\n",
    ")\n",
    "\n",
    "jumbotron2 = dbc.Row(\n",
    "    [left_jumbotron2, middlel_jumbotron2, middler_jumbotron2, right_jumbotron2],\n",
    "    className=\"align-items-md-stretch\",\n",
    "    style={'margin': '1em'}\n",
    ")\n",
    "\n",
    "jumbotrongraph = html.Div(\n",
    "    dbc.Container(\n",
    "        [\n",
    "            html.H5(\"Case Data by Date Classified\", className=\"display-5\"),\n",
    "            html.P(\n",
    "                \"This graph shows the number of cases of each type of case by date.\"\n",
    "            ),\n",
    "            html.Hr(className=\"my-2\"),\n",
    "        ],\n",
    "        fluid=True,\n",
    "        className=\"py-3\",\n",
    "    ),\n",
    "    className=\"p-3 bg-light rounded-3\",\n",
    ")\n",
    "\n",
    "mygraph = dcc.Graph(figure={})\n",
    "\n",
    "# jumbomode = dbc.Col(\n",
    "#     html.Div(\n",
    "#         [\n",
    "#             html.P(\"Data to be Shown: \", className=\"font-weight-bold\", style={'font-size': '1em'}),\n",
    "#             dcc.Dropdown(options=['SAM', 'MAM', 'Defaults', 'Deaths'],\n",
    "#                         value='SAM',  # initial value displayed when page first loads\n",
    "#                         clearable=False),\n",
    "#             # dbc.DropdownMenu([dbc.DropdownMenuItem('SAM'), dbc.DropdownMenuItem('MAM'), dbc.DropdownMenuItem('Defaults'), dbc.DropdownMenuItem('Deaths')],\n",
    "#             #     label=\"Data\", color=\"primary\", className=\"m-1\"\n",
    "#             # ),\n",
    "        \n",
    "#             html.P(\"Date Mode: \", className=\"font-weight-bold\", style={'font-size': '1em'}),\n",
    "#             dcc.Dropdown(options=['Daily', 'Weekly'],\n",
    "#                         value='Daily',  # initial value displayed when page first loads\n",
    "#                         clearable=False)\n",
    "#             # dbc.DropdownMenu([dbc.DropdownMenuItem('Daily'), dbc.DropdownMenuItem('Weekly')],\n",
    "#             #     label=\"Frequency\", color=\"primary\", className=\"m-1\"\n",
    "#             # ),\n",
    "#         ],\n",
    "#         className=\"h-100 p-5 text-black bg-light rounded-3\",\n",
    "#     ),\n",
    "#     md=12,\n",
    "# )\n",
    "\n",
    "# jumbotron3 = dbc.Row(\n",
    "#     [jumbomode],\n",
    "#     className=\"align-items-md-stretch\",\n",
    "#     style={'margin': '1em'}\n",
    "# )\n",
    "\n",
    "dropdown_mode = dcc.Dropdown(options=['SAM', 'MAM', 'Defaults', 'Deaths'],\n",
    "                        value='SAM',  # initial value displayed when page first loads\n",
    "                        clearable=False)\n",
    "dropdown_datemode = dcc.Dropdown(options=['Daily', 'Weekly'],\n",
    "                        value='Daily',  # initial value displayed when page first loads\n",
    "                        clearable=False)\n",
    "\n",
    "\n",
    "# Customize your own Layout\n",
    "app.layout = dbc.Container([mytitle, jumbotron1, jumbotron2, jumbotrongraph, dropdown_mode, dropdown_datemode, mygraph])\n",
    "\n",
    "# Callback allows components to interact\n",
    "@app.callback(\n",
    "    Output(mygraph, component_property='figure'),\n",
    "    Input(dropdown_mode, component_property='value'),\n",
    "    Input(dropdown_datemode, component_property='value')\n",
    ")\n",
    "\n",
    "def update_graph(mode, datemode):  # function arguments come from the component property of the Input\n",
    "    if mode == \"SAM\":\n",
    "        data_mode = \"SAM\"\n",
    "        bary_label = \"SAM cases\"\n",
    "    elif mode == \"MAM\":\n",
    "        data_mode = \"MAM\"\n",
    "        bary_label = \"MAM cases\"\n",
    "    elif mode == \"Defaults\":\n",
    "        data_mode = \"isdefault\"\n",
    "        bary_label = \"Defaulted cases\"\n",
    "    elif mode == \"Deaths\":\n",
    "        data_mode = \"isdead\"\n",
    "        bary_label = \"Deaths\"\n",
    "\n",
    "    if datemode == \"Daily\":\n",
    "        bar_freq = \"D\"\n",
    "    elif datemode == \"Weekly\":\n",
    "        bar_freq = \"W\"\n",
    "\n",
    "    df1_grouped = df1.groupby([pd.Grouper(key='Timestamp', freq=bar_freq), 'Brgy', 'Muni_city', 'Province','Region'])[['SAM','MAM','isdefault','isdead','isnormal']].sum().reset_index().sort_values('Timestamp')\n",
    "\n",
    "    fig = px.bar(df1_grouped, x=\"Timestamp\", y=data_mode, labels={\n",
    "                     \"Timestamp\": \"Date\",\n",
    "                     data_mode: bary_label,\n",
    "                 })\n",
    "\n",
    "    return fig  # returned objects are assigned to the component property of the Output\n",
    "\n",
    "\n",
    "def update_graph(mode, datemode):  # function arguments come from the component property of the Input\n",
    "    if mode == \"SAM\":\n",
    "        data_mode = \"SAM\"\n",
    "        bary_label = \"SAM cases\"\n",
    "    elif mode == \"MAM\":\n",
    "        data_mode = \"MAM\"\n",
    "        bary_label = \"MAM cases\"\n",
    "    elif mode == \"Defaults\":\n",
    "        data_mode = \"isdefault\"\n",
    "        bary_label = \"Defaulted cases\"\n",
    "    elif mode == \"Deaths\":\n",
    "        data_mode = \"isdead\"\n",
    "        bary_label = \"Deaths\"\n",
    "\n",
    "    if datemode == \"Daily\":\n",
    "        bar_freq = \"D\"\n",
    "    elif datemode == \"Weekly\":\n",
    "        bar_freq = \"W\"\n",
    "\n",
    "    df1_grouped = df1.groupby([pd.Grouper(key='Timestamp', freq=bar_freq), 'Brgy', 'Muni_city', 'Province','Region'])[['SAM','MAM','isdefault','isdead','isnormal']].sum().reset_index().sort_values('Timestamp')\n",
    "\n",
    "    fig = px.bar(df1_grouped, x=\"Timestamp\", y=data_mode, labels={\n",
    "                     \"Timestamp\": \"Date\",\n",
    "                     data_mode: bary_label,\n",
    "                 })\n",
    "\n",
    "    return fig  # returned objects are assigned to the component property of the Output\n",
    "\n",
    "\n",
    "# Run app\n",
    "if __name__=='__main__':\n",
    "    app.run_server(port=8080)"
   ]
  },
  {
   "cell_type": "code",
   "execution_count": 54,
   "metadata": {},
   "outputs": [
    {
     "data": {
      "application/vnd.plotly.v1+json": {
       "config": {
        "plotlyServerURL": "https://plot.ly"
       },
       "data": [
        {
         "alignmentgroup": "True",
         "hovertemplate": "Date=%{x}<br>SAM cases=%{y}<extra></extra>",
         "legendgroup": "",
         "marker": {
          "color": "#636efa",
          "pattern": {
           "shape": ""
          }
         },
         "name": "",
         "offsetgroup": "",
         "orientation": "v",
         "showlegend": false,
         "textposition": "auto",
         "type": "bar",
         "x": [
          "2022-07-13T00:00:00+00:00",
          "2022-07-22T00:00:00+00:00",
          "2022-07-23T00:00:00+00:00",
          "2022-07-24T00:00:00+00:00",
          "2022-07-25T00:00:00+00:00",
          "2022-07-27T00:00:00+00:00"
         ],
         "xaxis": "x",
         "y": [
          1,
          0,
          0,
          0,
          0,
          1
         ],
         "yaxis": "y"
        }
       ],
       "layout": {
        "barmode": "relative",
        "legend": {
         "tracegroupgap": 0
        },
        "margin": {
         "t": 60
        },
        "template": {
         "data": {
          "bar": [
           {
            "error_x": {
             "color": "#2a3f5f"
            },
            "error_y": {
             "color": "#2a3f5f"
            },
            "marker": {
             "line": {
              "color": "#E5ECF6",
              "width": 0.5
             },
             "pattern": {
              "fillmode": "overlay",
              "size": 10,
              "solidity": 0.2
             }
            },
            "type": "bar"
           }
          ],
          "barpolar": [
           {
            "marker": {
             "line": {
              "color": "#E5ECF6",
              "width": 0.5
             },
             "pattern": {
              "fillmode": "overlay",
              "size": 10,
              "solidity": 0.2
             }
            },
            "type": "barpolar"
           }
          ],
          "carpet": [
           {
            "aaxis": {
             "endlinecolor": "#2a3f5f",
             "gridcolor": "white",
             "linecolor": "white",
             "minorgridcolor": "white",
             "startlinecolor": "#2a3f5f"
            },
            "baxis": {
             "endlinecolor": "#2a3f5f",
             "gridcolor": "white",
             "linecolor": "white",
             "minorgridcolor": "white",
             "startlinecolor": "#2a3f5f"
            },
            "type": "carpet"
           }
          ],
          "choropleth": [
           {
            "colorbar": {
             "outlinewidth": 0,
             "ticks": ""
            },
            "type": "choropleth"
           }
          ],
          "contour": [
           {
            "colorbar": {
             "outlinewidth": 0,
             "ticks": ""
            },
            "colorscale": [
             [
              0,
              "#0d0887"
             ],
             [
              0.1111111111111111,
              "#46039f"
             ],
             [
              0.2222222222222222,
              "#7201a8"
             ],
             [
              0.3333333333333333,
              "#9c179e"
             ],
             [
              0.4444444444444444,
              "#bd3786"
             ],
             [
              0.5555555555555556,
              "#d8576b"
             ],
             [
              0.6666666666666666,
              "#ed7953"
             ],
             [
              0.7777777777777778,
              "#fb9f3a"
             ],
             [
              0.8888888888888888,
              "#fdca26"
             ],
             [
              1,
              "#f0f921"
             ]
            ],
            "type": "contour"
           }
          ],
          "contourcarpet": [
           {
            "colorbar": {
             "outlinewidth": 0,
             "ticks": ""
            },
            "type": "contourcarpet"
           }
          ],
          "heatmap": [
           {
            "colorbar": {
             "outlinewidth": 0,
             "ticks": ""
            },
            "colorscale": [
             [
              0,
              "#0d0887"
             ],
             [
              0.1111111111111111,
              "#46039f"
             ],
             [
              0.2222222222222222,
              "#7201a8"
             ],
             [
              0.3333333333333333,
              "#9c179e"
             ],
             [
              0.4444444444444444,
              "#bd3786"
             ],
             [
              0.5555555555555556,
              "#d8576b"
             ],
             [
              0.6666666666666666,
              "#ed7953"
             ],
             [
              0.7777777777777778,
              "#fb9f3a"
             ],
             [
              0.8888888888888888,
              "#fdca26"
             ],
             [
              1,
              "#f0f921"
             ]
            ],
            "type": "heatmap"
           }
          ],
          "heatmapgl": [
           {
            "colorbar": {
             "outlinewidth": 0,
             "ticks": ""
            },
            "colorscale": [
             [
              0,
              "#0d0887"
             ],
             [
              0.1111111111111111,
              "#46039f"
             ],
             [
              0.2222222222222222,
              "#7201a8"
             ],
             [
              0.3333333333333333,
              "#9c179e"
             ],
             [
              0.4444444444444444,
              "#bd3786"
             ],
             [
              0.5555555555555556,
              "#d8576b"
             ],
             [
              0.6666666666666666,
              "#ed7953"
             ],
             [
              0.7777777777777778,
              "#fb9f3a"
             ],
             [
              0.8888888888888888,
              "#fdca26"
             ],
             [
              1,
              "#f0f921"
             ]
            ],
            "type": "heatmapgl"
           }
          ],
          "histogram": [
           {
            "marker": {
             "pattern": {
              "fillmode": "overlay",
              "size": 10,
              "solidity": 0.2
             }
            },
            "type": "histogram"
           }
          ],
          "histogram2d": [
           {
            "colorbar": {
             "outlinewidth": 0,
             "ticks": ""
            },
            "colorscale": [
             [
              0,
              "#0d0887"
             ],
             [
              0.1111111111111111,
              "#46039f"
             ],
             [
              0.2222222222222222,
              "#7201a8"
             ],
             [
              0.3333333333333333,
              "#9c179e"
             ],
             [
              0.4444444444444444,
              "#bd3786"
             ],
             [
              0.5555555555555556,
              "#d8576b"
             ],
             [
              0.6666666666666666,
              "#ed7953"
             ],
             [
              0.7777777777777778,
              "#fb9f3a"
             ],
             [
              0.8888888888888888,
              "#fdca26"
             ],
             [
              1,
              "#f0f921"
             ]
            ],
            "type": "histogram2d"
           }
          ],
          "histogram2dcontour": [
           {
            "colorbar": {
             "outlinewidth": 0,
             "ticks": ""
            },
            "colorscale": [
             [
              0,
              "#0d0887"
             ],
             [
              0.1111111111111111,
              "#46039f"
             ],
             [
              0.2222222222222222,
              "#7201a8"
             ],
             [
              0.3333333333333333,
              "#9c179e"
             ],
             [
              0.4444444444444444,
              "#bd3786"
             ],
             [
              0.5555555555555556,
              "#d8576b"
             ],
             [
              0.6666666666666666,
              "#ed7953"
             ],
             [
              0.7777777777777778,
              "#fb9f3a"
             ],
             [
              0.8888888888888888,
              "#fdca26"
             ],
             [
              1,
              "#f0f921"
             ]
            ],
            "type": "histogram2dcontour"
           }
          ],
          "mesh3d": [
           {
            "colorbar": {
             "outlinewidth": 0,
             "ticks": ""
            },
            "type": "mesh3d"
           }
          ],
          "parcoords": [
           {
            "line": {
             "colorbar": {
              "outlinewidth": 0,
              "ticks": ""
             }
            },
            "type": "parcoords"
           }
          ],
          "pie": [
           {
            "automargin": true,
            "type": "pie"
           }
          ],
          "scatter": [
           {
            "fillpattern": {
             "fillmode": "overlay",
             "size": 10,
             "solidity": 0.2
            },
            "type": "scatter"
           }
          ],
          "scatter3d": [
           {
            "line": {
             "colorbar": {
              "outlinewidth": 0,
              "ticks": ""
             }
            },
            "marker": {
             "colorbar": {
              "outlinewidth": 0,
              "ticks": ""
             }
            },
            "type": "scatter3d"
           }
          ],
          "scattercarpet": [
           {
            "marker": {
             "colorbar": {
              "outlinewidth": 0,
              "ticks": ""
             }
            },
            "type": "scattercarpet"
           }
          ],
          "scattergeo": [
           {
            "marker": {
             "colorbar": {
              "outlinewidth": 0,
              "ticks": ""
             }
            },
            "type": "scattergeo"
           }
          ],
          "scattergl": [
           {
            "marker": {
             "colorbar": {
              "outlinewidth": 0,
              "ticks": ""
             }
            },
            "type": "scattergl"
           }
          ],
          "scattermapbox": [
           {
            "marker": {
             "colorbar": {
              "outlinewidth": 0,
              "ticks": ""
             }
            },
            "type": "scattermapbox"
           }
          ],
          "scatterpolar": [
           {
            "marker": {
             "colorbar": {
              "outlinewidth": 0,
              "ticks": ""
             }
            },
            "type": "scatterpolar"
           }
          ],
          "scatterpolargl": [
           {
            "marker": {
             "colorbar": {
              "outlinewidth": 0,
              "ticks": ""
             }
            },
            "type": "scatterpolargl"
           }
          ],
          "scatterternary": [
           {
            "marker": {
             "colorbar": {
              "outlinewidth": 0,
              "ticks": ""
             }
            },
            "type": "scatterternary"
           }
          ],
          "surface": [
           {
            "colorbar": {
             "outlinewidth": 0,
             "ticks": ""
            },
            "colorscale": [
             [
              0,
              "#0d0887"
             ],
             [
              0.1111111111111111,
              "#46039f"
             ],
             [
              0.2222222222222222,
              "#7201a8"
             ],
             [
              0.3333333333333333,
              "#9c179e"
             ],
             [
              0.4444444444444444,
              "#bd3786"
             ],
             [
              0.5555555555555556,
              "#d8576b"
             ],
             [
              0.6666666666666666,
              "#ed7953"
             ],
             [
              0.7777777777777778,
              "#fb9f3a"
             ],
             [
              0.8888888888888888,
              "#fdca26"
             ],
             [
              1,
              "#f0f921"
             ]
            ],
            "type": "surface"
           }
          ],
          "table": [
           {
            "cells": {
             "fill": {
              "color": "#EBF0F8"
             },
             "line": {
              "color": "white"
             }
            },
            "header": {
             "fill": {
              "color": "#C8D4E3"
             },
             "line": {
              "color": "white"
             }
            },
            "type": "table"
           }
          ]
         },
         "layout": {
          "annotationdefaults": {
           "arrowcolor": "#2a3f5f",
           "arrowhead": 0,
           "arrowwidth": 1
          },
          "autotypenumbers": "strict",
          "coloraxis": {
           "colorbar": {
            "outlinewidth": 0,
            "ticks": ""
           }
          },
          "colorscale": {
           "diverging": [
            [
             0,
             "#8e0152"
            ],
            [
             0.1,
             "#c51b7d"
            ],
            [
             0.2,
             "#de77ae"
            ],
            [
             0.3,
             "#f1b6da"
            ],
            [
             0.4,
             "#fde0ef"
            ],
            [
             0.5,
             "#f7f7f7"
            ],
            [
             0.6,
             "#e6f5d0"
            ],
            [
             0.7,
             "#b8e186"
            ],
            [
             0.8,
             "#7fbc41"
            ],
            [
             0.9,
             "#4d9221"
            ],
            [
             1,
             "#276419"
            ]
           ],
           "sequential": [
            [
             0,
             "#0d0887"
            ],
            [
             0.1111111111111111,
             "#46039f"
            ],
            [
             0.2222222222222222,
             "#7201a8"
            ],
            [
             0.3333333333333333,
             "#9c179e"
            ],
            [
             0.4444444444444444,
             "#bd3786"
            ],
            [
             0.5555555555555556,
             "#d8576b"
            ],
            [
             0.6666666666666666,
             "#ed7953"
            ],
            [
             0.7777777777777778,
             "#fb9f3a"
            ],
            [
             0.8888888888888888,
             "#fdca26"
            ],
            [
             1,
             "#f0f921"
            ]
           ],
           "sequentialminus": [
            [
             0,
             "#0d0887"
            ],
            [
             0.1111111111111111,
             "#46039f"
            ],
            [
             0.2222222222222222,
             "#7201a8"
            ],
            [
             0.3333333333333333,
             "#9c179e"
            ],
            [
             0.4444444444444444,
             "#bd3786"
            ],
            [
             0.5555555555555556,
             "#d8576b"
            ],
            [
             0.6666666666666666,
             "#ed7953"
            ],
            [
             0.7777777777777778,
             "#fb9f3a"
            ],
            [
             0.8888888888888888,
             "#fdca26"
            ],
            [
             1,
             "#f0f921"
            ]
           ]
          },
          "colorway": [
           "#636efa",
           "#EF553B",
           "#00cc96",
           "#ab63fa",
           "#FFA15A",
           "#19d3f3",
           "#FF6692",
           "#B6E880",
           "#FF97FF",
           "#FECB52"
          ],
          "font": {
           "color": "#2a3f5f"
          },
          "geo": {
           "bgcolor": "white",
           "lakecolor": "white",
           "landcolor": "#E5ECF6",
           "showlakes": true,
           "showland": true,
           "subunitcolor": "white"
          },
          "hoverlabel": {
           "align": "left"
          },
          "hovermode": "closest",
          "mapbox": {
           "style": "light"
          },
          "paper_bgcolor": "white",
          "plot_bgcolor": "#E5ECF6",
          "polar": {
           "angularaxis": {
            "gridcolor": "white",
            "linecolor": "white",
            "ticks": ""
           },
           "bgcolor": "#E5ECF6",
           "radialaxis": {
            "gridcolor": "white",
            "linecolor": "white",
            "ticks": ""
           }
          },
          "scene": {
           "xaxis": {
            "backgroundcolor": "#E5ECF6",
            "gridcolor": "white",
            "gridwidth": 2,
            "linecolor": "white",
            "showbackground": true,
            "ticks": "",
            "zerolinecolor": "white"
           },
           "yaxis": {
            "backgroundcolor": "#E5ECF6",
            "gridcolor": "white",
            "gridwidth": 2,
            "linecolor": "white",
            "showbackground": true,
            "ticks": "",
            "zerolinecolor": "white"
           },
           "zaxis": {
            "backgroundcolor": "#E5ECF6",
            "gridcolor": "white",
            "gridwidth": 2,
            "linecolor": "white",
            "showbackground": true,
            "ticks": "",
            "zerolinecolor": "white"
           }
          },
          "shapedefaults": {
           "line": {
            "color": "#2a3f5f"
           }
          },
          "ternary": {
           "aaxis": {
            "gridcolor": "white",
            "linecolor": "white",
            "ticks": ""
           },
           "baxis": {
            "gridcolor": "white",
            "linecolor": "white",
            "ticks": ""
           },
           "bgcolor": "#E5ECF6",
           "caxis": {
            "gridcolor": "white",
            "linecolor": "white",
            "ticks": ""
           }
          },
          "title": {
           "x": 0.05
          },
          "xaxis": {
           "automargin": true,
           "gridcolor": "white",
           "linecolor": "white",
           "ticks": "",
           "title": {
            "standoff": 15
           },
           "zerolinecolor": "white",
           "zerolinewidth": 2
          },
          "yaxis": {
           "automargin": true,
           "gridcolor": "white",
           "linecolor": "white",
           "ticks": "",
           "title": {
            "standoff": 15
           },
           "zerolinecolor": "white",
           "zerolinewidth": 2
          }
         }
        },
        "xaxis": {
         "anchor": "y",
         "domain": [
          0,
          1
         ],
         "title": {
          "text": "Date"
         }
        },
        "yaxis": {
         "anchor": "x",
         "domain": [
          0,
          1
         ],
         "title": {
          "text": "SAM cases"
         }
        }
       }
      }
     },
     "metadata": {},
     "output_type": "display_data"
    }
   ],
   "source": [
    "mode = 'SAM'\n",
    "if mode == \"SAM\":\n",
    "    data_mode = \"SAM\"\n",
    "    bary_label = \"SAM cases\"\n",
    "elif mode == \"MAM\":\n",
    "    data_mode = \"SAM\"\n",
    "    bary_label = \"MAM cases\"\n",
    "elif mode == \"Defaults\":\n",
    "    data_mode = \"isdefault\"\n",
    "    bary_label = \"Defaulted cases\"\n",
    "elif mode == \"Deaths\":\n",
    "    data_mode = \"isdead\"\n",
    "    bary_label = \"Deaths\"\n",
    "\n",
    "date_mode = \"Daily\"\n",
    "if date_mode == \"Daily\":\n",
    "    bar_freq = \"D\"\n",
    "elif date_mode == \"Weekly\":\n",
    "    bar_freq = \"W\"\n",
    "\n",
    "df1_grouped = df1.groupby([pd.Grouper(key='Timestamp', freq=bar_freq), 'Brgy', 'Muni_city', 'Province','Region'])[['SAM','MAM','isdefault','isdead','isnormal']].sum().reset_index().sort_values('Timestamp')\n",
    "\n",
    "fig = px.bar(df1_grouped, x=\"Timestamp\", y=data_mode, labels={\n",
    "                     \"Timestamp\": \"Date\",\n",
    "                     data_mode: bary_label,\n",
    "                 })\n",
    "fig.show()"
   ]
  },
  {
   "cell_type": "code",
   "execution_count": null,
   "metadata": {},
   "outputs": [],
   "source": [
    "# Get all records of child with user_id of a1 for example\n",
    "user = \"rqIFv4aa\"\n",
    "df1_history = df1.loc[df1[\"ID\"] == user][['Timestamp','default','dead','Length_Height','Weight','MUAC','Edema','Zscore','Age','Status']].sort_values('Timestamp', ascending=False)\n",
    "df1_history"
   ]
  },
  {
   "cell_type": "markdown",
   "metadata": {
    "created_in_deepnote_cell": true,
    "deepnote_cell_type": "markdown",
    "tags": []
   },
   "source": [
    "<a style='text-decoration:none;line-height:16px;display:flex;color:#5B5B62;padding:10px;justify-content:end;' href='https://deepnote.com?utm_source=created-in-deepnote-cell&projectId=c10d3b81-c7bb-40bf-98a8-a9afcc527b5c' target=\"_blank\">\n",
    "<img alt='Created in deepnote.com' style='display:inline;max-height:16px;margin:0px;margin-right:7.5px;' src='data:image/svg+xml;base64,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' > </img>\n",
    "Created in <span style='font-weight:600;margin-left:4px;'>Deepnote</span></a>"
   ]
  }
 ],
 "metadata": {
  "deepnote": {},
  "deepnote_execution_queue": [],
  "deepnote_notebook_id": "b1c116cb-749c-403b-bb7a-1bf149b4e2e1",
  "language_info": {
   "name": "python"
  },
  "orig_nbformat": 2
 },
 "nbformat": 4,
 "nbformat_minor": 2
}
